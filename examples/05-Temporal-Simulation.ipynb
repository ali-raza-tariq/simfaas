{
 "cells": [
  {
   "cell_type": "markdown",
   "metadata": {},
   "source": [
    "# Temporal Simulation\n",
    "\n",
    "Assuming stationary processes, we used the previously demonstrated (check other examples)\n",
    "average QoS metrics over time by simulating for a very large `max_time`. Here, our goal is to find\n",
    "temporal characteristics by calculating sample averages (with limited time executation).\n",
    "To do so, we need to provide the function instances in the current state."
   ]
  },
  {
   "cell_type": "code",
   "execution_count": 1,
   "metadata": {
    "tags": [
     "outputPrepend",
     "outputPrepend",
     "outputPrepend",
     "outputPrepend",
     "outputPrepend",
     "outputPrepend",
     "outputPrepend",
     "outputPrepend",
     "outputPrepend"
    ]
   },
   "outputs": [],
   "source": [
    "from pacssim.SimProcess import ExpSimProcess\n",
    "from pacssim.FunctionInstance import FunctionInstance\n",
    "from pacssim.ServerlessTemporalSimulator import ServerlessTemporalSimulator\n",
    "\n",
    "from tqdm import tqdm\n",
    "import numpy as np\n",
    "\n",
    "cold_service_rate = 1/2.163\n",
    "warm_service_rate = 1/2.016\n",
    "expiration_threshold = 600\n",
    "\n",
    "arrival_rate = 0.9\n",
    "max_time = 300\n",
    "\n",
    "# number of simulations samples produced\n",
    "num_sim = 1000\n",
    "\n",
    "running_function_count = 3\n",
    "idle_function_count = 5\n",
    "\n",
    "cold_service_process = ExpSimProcess(rate=cold_service_rate)\n",
    "warm_service_process = ExpSimProcess(rate=warm_service_rate)\n",
    "\n",
    "def generate_trace():\n",
    "    idle_functions = []\n",
    "    for _ in range(idle_function_count):\n",
    "        f = FunctionInstance(0,\n",
    "                                cold_service_process,\n",
    "                                warm_service_process,\n",
    "                                expiration_threshold\n",
    "                                )\n",
    "\n",
    "        f.state = 'IDLE'\n",
    "        f.is_cold = False\n",
    "        # when will it be destroyed if no requests\n",
    "        f.next_termination = 300\n",
    "        # so that they would be less likely to be chosen by scheduler\n",
    "        f.creation_time = 0.01\n",
    "        idle_functions.append(f)\n",
    "\n",
    "    running_functions = []\n",
    "    for _ in range(running_function_count):\n",
    "        f = FunctionInstance(0,\n",
    "                                cold_service_process,\n",
    "                                warm_service_process,\n",
    "                                expiration_threshold\n",
    "                                )\n",
    "\n",
    "        f.state = 'IDLE'\n",
    "        f.is_cold = False\n",
    "        # transition it into running mode\n",
    "        f.arrival_transition(0)\n",
    "\n",
    "        running_functions.append(f)\n",
    "\n",
    "    sim = ServerlessTemporalSimulator(running_functions, idle_functions, arrival_rate=arrival_rate, warm_service_rate=warm_service_rate, cold_service_rate=cold_service_rate,\n",
    "                                        expiration_threshold=expiration_threshold, max_time=max_time)\n",
    "    sim.generate_trace(debug_print=False, progress=False)\n",
    "    return sim.get_cold_start_prob()"
   ]
  },
  {
   "cell_type": "code",
   "execution_count": 2,
   "metadata": {},
   "outputs": [
    {
     "output_type": "stream",
     "name": "stderr",
     "text": "100%|██████████| 1000/1000 [00:14<00:00, 70.73it/s]\n"
    }
   ],
   "source": [
    "traces = [generate_trace() for _ in tqdm(range(num_sim))]"
   ]
  },
  {
   "cell_type": "code",
   "execution_count": 3,
   "metadata": {},
   "outputs": [
    {
     "output_type": "stream",
     "name": "stdout",
     "text": "The probability of cold start request in the next 300s is: 0.00041845\n"
    }
   ],
   "source": [
    "p_cold = np.mean(traces)\n",
    "print(f\"The probability of cold start request in the next {max_time}s is: {p_cold:.8f}\")"
   ]
  }
 ],
 "metadata": {
  "language_info": {
   "codemirror_mode": {
    "name": "ipython",
    "version": 3
   },
   "file_extension": ".py",
   "mimetype": "text/x-python",
   "name": "python",
   "nbconvert_exporter": "python",
   "pygments_lexer": "ipython3",
   "version": "3.6.10-final"
  },
  "orig_nbformat": 2,
  "kernelspec": {
   "name": "python361064bitsimenvconda6f26dd105ce74d34af4003741cf4fdff",
   "display_name": "Python 3.6.10 64-bit ('simenv': conda)"
  }
 },
 "nbformat": 4,
 "nbformat_minor": 2
}