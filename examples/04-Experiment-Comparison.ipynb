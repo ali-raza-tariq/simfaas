{
 "cells": [
  {
   "cell_type": "markdown",
   "metadata": {},
   "source": [
    "# Experiment Comparison\n",
    "\n",
    "In this notebook, we will compare the results of our simulator with real data from AWS Lambda."
   ]
  },
  {
   "cell_type": "code",
   "execution_count": 1,
   "metadata": {},
   "outputs": [],
   "source": [
    "# imports\n",
    "\n",
    "%load_ext autoreload\n",
    "%autoreload 2\n",
    "\n",
    "import numpy as np\n",
    "import pandas as pd\n",
    "import matplotlib.pyplot as plt"
   ]
  },
  {
   "cell_type": "code",
   "execution_count": 5,
   "metadata": {},
   "outputs": [
    {
     "output_type": "stream",
     "name": "stderr",
     "text": "99%|█████████▉| 990060.8959855626/1000000.0 [00:42<00:00, 23483.67it/s]\nCold Starts / total requests: \t 1241 / 900888\nCold Start Probability: \t 0.0014\nRejection / total requests: \t 0 / 900888\nRejection Probability: \t\t 0.0000\nAverage Instance Life Span: \t 6241.4183\nAverage Server Count:  \t\t 7.7236\nAverage Running Count:  \t 1.7922\nAverage Idle Count:  \t\t 5.9314\n"
    }
   ],
   "source": [
    "from pacssim.ServerlessSimulator import ServerlessSimulator as Sim\n",
    "\n",
    "sim = Sim(arrival_rate=0.9, warm_service_rate=1/1.991, cold_service_rate=1/2.244,\n",
    "            expiration_threshold=600, max_time=1e6)\n",
    "sim.generate_trace(debug_print=False, progress=True)\n",
    "sim.print_trace_results()"
   ]
  },
  {
   "cell_type": "code",
   "execution_count": null,
   "metadata": {},
   "outputs": [],
   "source": []
  }
 ],
 "metadata": {
  "language_info": {
   "codemirror_mode": {
    "name": "ipython",
    "version": 3
   },
   "file_extension": ".py",
   "mimetype": "text/x-python",
   "name": "python",
   "nbconvert_exporter": "python",
   "pygments_lexer": "ipython3",
   "version": "3.6.10-final"
  },
  "orig_nbformat": 2,
  "kernelspec": {
   "name": "python361064bitsimenvconda6f26dd105ce74d34af4003741cf4fdff",
   "display_name": "Python 3.6.10 64-bit ('simenv': conda)"
  }
 },
 "nbformat": 4,
 "nbformat_minor": 2
}