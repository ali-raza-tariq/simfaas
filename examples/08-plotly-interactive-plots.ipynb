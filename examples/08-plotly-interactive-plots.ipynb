{
 "cells": [
  {
   "cell_type": "markdown",
   "metadata": {},
   "source": [
    "# Plotly Interactive Plots\n",
    "\n",
    "Some interactive plots to visualize the dataset with more details."
   ]
  },
  {
   "cell_type": "code",
   "execution_count": 1,
   "metadata": {},
   "outputs": [],
   "source": [
    "# imports\n",
    "\n",
    "%load_ext autoreload\n",
    "%autoreload 2\n",
    "\n",
    "import matplotlib.pyplot as plt\n",
    "import numpy as np\n",
    "import pandas as pd\n",
    "\n",
    "from tqdm import tqdm\n",
    "tqdm.pandas()"
   ]
  },
  {
   "cell_type": "code",
   "execution_count": 2,
   "metadata": {},
   "outputs": [
    {
     "output_type": "execute_result",
     "data": {
      "text/plain": "{'reqs_cold': 18,\n 'reqs_total': 9014,\n 'reqs_warm': 8996,\n 'prob_cold': 0.0019968937208786333,\n 'reqs_reject': 0,\n 'prob_reject': 0.0,\n 'lifespan_avg': 4350.841761708843,\n 'inst_count_avg': 7.490084721949997,\n 'inst_running_count_avg': 1.8114269747235925,\n 'inst_idle_count_avg': 5.6786577472264055,\n 'arrival_rate': 0.9,\n 'warm_service_rate': 0.49603174603174605,\n 'cold_service_rate': 0.46232085067036527,\n 'expiration_threshold': 600,\n 'max_time': 10000}"
     },
     "metadata": {},
     "execution_count": 2
    }
   ],
   "source": [
    "# Test API function before running larger simulations\n",
    "from examples.sim_trace import generate_trace_api\n",
    "\n",
    "input_data = {\n",
    "    \"arrival_rate\": 0.9, \n",
    "    \"warm_service_rate\": 1/2.016, \n",
    "    \"cold_service_rate\": 1/2.163,\n",
    "    \"expiration_threshold\": 600, \n",
    "    \"max_time\": 10000,\n",
    "}\n",
    "\n",
    "generate_trace_api(input_data)"
   ]
  },
  {
   "cell_type": "code",
   "execution_count": 12,
   "metadata": {
    "tags": []
   },
   "outputs": [
    {
     "output_type": "stream",
     "name": "stderr",
     "text": "100%|██████████| 30/30 [00:39<00:00,  1.31s/it]\n"
    },
    {
     "output_type": "execute_result",
     "data": {
      "text/plain": "    reqs_cold  reqs_total  reqs_warm  prob_cold  reqs_reject  prob_reject  \\\n25         30       35544      35514   0.000844            0          0.0   \n26         25       35986      35961   0.000695            0          0.0   \n27         60      100308     100248   0.000598            0          0.0   \n28         59       99644      99585   0.000592            0          0.0   \n29         46      100087     100041   0.000460            0          0.0   \n\n    lifespan_avg  inst_count_avg  inst_running_count_avg  inst_idle_count_avg  \\\n25   5903.648933       19.127110                7.230578            11.896532   \n26   4300.195885       18.595133                7.295950            11.299183   \n27   5216.518042       37.313824               20.156791            17.157032   \n28   4774.122448       39.226505               20.036503            19.190002   \n29   5738.913739       39.686124               20.180157            19.505967   \n\n    arrival_rate  warm_service_rate  cold_service_rate  expiration_threshold  \\\n25      3.593814           0.496032           0.462321                  1200   \n26      3.593814           0.496032           0.462321                  1800   \n27     10.000000           0.496032           0.462321                   600   \n28     10.000000           0.496032           0.462321                  1200   \n29     10.000000           0.496032           0.462321                  1800   \n\n    max_time expiration_threshold_labels  \n25     10000                      20 min  \n26     10000                      30 min  \n27     10000                      10 min  \n28     10000                      20 min  \n29     10000                      30 min  ",
      "text/html": "<div>\n<style scoped>\n    .dataframe tbody tr th:only-of-type {\n        vertical-align: middle;\n    }\n\n    .dataframe tbody tr th {\n        vertical-align: top;\n    }\n\n    .dataframe thead th {\n        text-align: right;\n    }\n</style>\n<table border=\"1\" class=\"dataframe\">\n  <thead>\n    <tr style=\"text-align: right;\">\n      <th></th>\n      <th>reqs_cold</th>\n      <th>reqs_total</th>\n      <th>reqs_warm</th>\n      <th>prob_cold</th>\n      <th>reqs_reject</th>\n      <th>prob_reject</th>\n      <th>lifespan_avg</th>\n      <th>inst_count_avg</th>\n      <th>inst_running_count_avg</th>\n      <th>inst_idle_count_avg</th>\n      <th>arrival_rate</th>\n      <th>warm_service_rate</th>\n      <th>cold_service_rate</th>\n      <th>expiration_threshold</th>\n      <th>max_time</th>\n      <th>expiration_threshold_labels</th>\n    </tr>\n  </thead>\n  <tbody>\n    <tr>\n      <th>25</th>\n      <td>30</td>\n      <td>35544</td>\n      <td>35514</td>\n      <td>0.000844</td>\n      <td>0</td>\n      <td>0.0</td>\n      <td>5903.648933</td>\n      <td>19.127110</td>\n      <td>7.230578</td>\n      <td>11.896532</td>\n      <td>3.593814</td>\n      <td>0.496032</td>\n      <td>0.462321</td>\n      <td>1200</td>\n      <td>10000</td>\n      <td>20 min</td>\n    </tr>\n    <tr>\n      <th>26</th>\n      <td>25</td>\n      <td>35986</td>\n      <td>35961</td>\n      <td>0.000695</td>\n      <td>0</td>\n      <td>0.0</td>\n      <td>4300.195885</td>\n      <td>18.595133</td>\n      <td>7.295950</td>\n      <td>11.299183</td>\n      <td>3.593814</td>\n      <td>0.496032</td>\n      <td>0.462321</td>\n      <td>1800</td>\n      <td>10000</td>\n      <td>30 min</td>\n    </tr>\n    <tr>\n      <th>27</th>\n      <td>60</td>\n      <td>100308</td>\n      <td>100248</td>\n      <td>0.000598</td>\n      <td>0</td>\n      <td>0.0</td>\n      <td>5216.518042</td>\n      <td>37.313824</td>\n      <td>20.156791</td>\n      <td>17.157032</td>\n      <td>10.000000</td>\n      <td>0.496032</td>\n      <td>0.462321</td>\n      <td>600</td>\n      <td>10000</td>\n      <td>10 min</td>\n    </tr>\n    <tr>\n      <th>28</th>\n      <td>59</td>\n      <td>99644</td>\n      <td>99585</td>\n      <td>0.000592</td>\n      <td>0</td>\n      <td>0.0</td>\n      <td>4774.122448</td>\n      <td>39.226505</td>\n      <td>20.036503</td>\n      <td>19.190002</td>\n      <td>10.000000</td>\n      <td>0.496032</td>\n      <td>0.462321</td>\n      <td>1200</td>\n      <td>10000</td>\n      <td>20 min</td>\n    </tr>\n    <tr>\n      <th>29</th>\n      <td>46</td>\n      <td>100087</td>\n      <td>100041</td>\n      <td>0.000460</td>\n      <td>0</td>\n      <td>0.0</td>\n      <td>5738.913739</td>\n      <td>39.686124</td>\n      <td>20.180157</td>\n      <td>19.505967</td>\n      <td>10.000000</td>\n      <td>0.496032</td>\n      <td>0.462321</td>\n      <td>1800</td>\n      <td>10000</td>\n      <td>30 min</td>\n    </tr>\n  </tbody>\n</table>\n</div>"
     },
     "metadata": {},
     "execution_count": 12
    }
   ],
   "source": [
    "# Plot characteristics for different arrival rates and expiration thresholds\n",
    "num_arrival_rates = 10\n",
    "exp_thresholds = [600, 1200, 1800]\n",
    "exp_threshold_labels = [\"10 min\", \"20 min\", \"30 min\"]\n",
    "input_data['arrival_rate'] = list(np.repeat(np.logspace(-3,1,num_arrival_rates), len(exp_thresholds)))\n",
    "input_data['expiration_threshold'] = exp_thresholds * num_arrival_rates\n",
    "input_data['expiration_threshold_labels'] = exp_threshold_labels * num_arrival_rates\n",
    "\n",
    "df = pd.DataFrame(data=input_data).reset_index(drop=True)\n",
    "\n",
    "def generate_trace_apply(x):\n",
    "    return pd.Series(generate_trace_api(x.to_dict()))\n",
    "\n",
    "df = df.progress_apply(generate_trace_apply, axis=1)\n",
    "df.tail()"
   ]
  },
  {
   "cell_type": "code",
   "execution_count": 13,
   "metadata": {},
   "outputs": [],
   "source": [
    "# calculate utilizations\n",
    "df['utilization_percent'] = df['inst_running_count_avg'] / df['inst_count_avg'] * 100"
   ]
  },
  {
   "cell_type": "code",
   "execution_count": 22,
   "metadata": {},
   "outputs": [
    {
     "output_type": "display_data",
     "data": {
      "application/vnd.plotly.v1+json": {
       "config": {
        "plotlyServerURL": "https://plot.ly"
       },
       "data": [
        {
         "hovertemplate": "expiration_threshold_labels=10 min<br>arrival_rate=%{x}<br>utilization_percent=%{y}<extra></extra>",
         "legendgroup": "10 min",
         "line": {
          "color": "#636efa",
          "dash": "solid"
         },
         "mode": "lines",
         "name": "10 min",
         "orientation": "v",
         "showlegend": true,
         "type": "scatter",
         "x": [
          0.001,
          0.0027825594022071257,
          0.007742636826811269,
          0.021544346900318832,
          0.05994842503189409,
          0.1668100537200059,
          0.46415888336127775,
          1.2915496650148828,
          3.593813663804626,
          10
         ],
         "xaxis": "x",
         "y": [
          0.49667438517502605,
          0.5536906323182307,
          1.1171820218704243,
          3.245948163878253,
          5.409155613800342,
          10.510588505648084,
          16.784808035280076,
          27.48604520697977,
          39.6178421788117,
          54.01963502599676
         ],
         "yaxis": "y"
        },
        {
         "hovertemplate": "expiration_threshold_labels=20 min<br>arrival_rate=%{x}<br>utilization_percent=%{y}<extra></extra>",
         "legendgroup": "20 min",
         "line": {
          "color": "#EF553B",
          "dash": "solid"
         },
         "mode": "lines",
         "name": "20 min",
         "orientation": "v",
         "showlegend": true,
         "type": "scatter",
         "x": [
          0.001,
          0.0027825594022071257,
          0.007742636826811269,
          0.021544346900318832,
          0.05994842503189409,
          0.1668100537200059,
          0.46415888336127775,
          1.2915496650148828,
          3.593813663804626,
          10
         ],
         "xaxis": "x",
         "y": [
          0.27635012633686706,
          0.3988915796773007,
          1.5196496981401808,
          3.1774346937677174,
          6.63342899771851,
          9.506719852661506,
          16.150684972123102,
          26.860191403094273,
          37.8027740290115,
          51.078990649561206
         ],
         "yaxis": "y"
        },
        {
         "hovertemplate": "expiration_threshold_labels=30 min<br>arrival_rate=%{x}<br>utilization_percent=%{y}<extra></extra>",
         "legendgroup": "30 min",
         "line": {
          "color": "#00cc96",
          "dash": "solid"
         },
         "mode": "lines",
         "name": "30 min",
         "orientation": "v",
         "showlegend": true,
         "type": "scatter",
         "x": [
          0.001,
          0.0027825594022071257,
          0.007742636826811269,
          0.021544346900318832,
          0.05994842503189409,
          0.1668100537200059,
          0.46415888336127775,
          1.2915496650148828,
          3.593813663804626,
          10
         ],
         "xaxis": "x",
         "y": [
          0.3177015024177307,
          0.3509814420768941,
          1.225218680747874,
          2.437392179692734,
          4.985753437889454,
          9.125507638734174,
          16.421009539337682,
          25.591303352364726,
          39.235805373978515,
          50.84940277501442
         ],
         "yaxis": "y"
        }
       ],
       "layout": {
        "legend": {
         "title": {
          "text": "expiration_threshold_labels"
         },
         "tracegroupgap": 0
        },
        "margin": {
         "t": 60
        },
        "template": {
         "data": {
          "bar": [
           {
            "error_x": {
             "color": "#2a3f5f"
            },
            "error_y": {
             "color": "#2a3f5f"
            },
            "marker": {
             "line": {
              "color": "#E5ECF6",
              "width": 0.5
             }
            },
            "type": "bar"
           }
          ],
          "barpolar": [
           {
            "marker": {
             "line": {
              "color": "#E5ECF6",
              "width": 0.5
             }
            },
            "type": "barpolar"
           }
          ],
          "carpet": [
           {
            "aaxis": {
             "endlinecolor": "#2a3f5f",
             "gridcolor": "white",
             "linecolor": "white",
             "minorgridcolor": "white",
             "startlinecolor": "#2a3f5f"
            },
            "baxis": {
             "endlinecolor": "#2a3f5f",
             "gridcolor": "white",
             "linecolor": "white",
             "minorgridcolor": "white",
             "startlinecolor": "#2a3f5f"
            },
            "type": "carpet"
           }
          ],
          "choropleth": [
           {
            "colorbar": {
             "outlinewidth": 0,
             "ticks": ""
            },
            "type": "choropleth"
           }
          ],
          "contour": [
           {
            "colorbar": {
             "outlinewidth": 0,
             "ticks": ""
            },
            "colorscale": [
             [
              0,
              "#0d0887"
             ],
             [
              0.1111111111111111,
              "#46039f"
             ],
             [
              0.2222222222222222,
              "#7201a8"
             ],
             [
              0.3333333333333333,
              "#9c179e"
             ],
             [
              0.4444444444444444,
              "#bd3786"
             ],
             [
              0.5555555555555556,
              "#d8576b"
             ],
             [
              0.6666666666666666,
              "#ed7953"
             ],
             [
              0.7777777777777778,
              "#fb9f3a"
             ],
             [
              0.8888888888888888,
              "#fdca26"
             ],
             [
              1,
              "#f0f921"
             ]
            ],
            "type": "contour"
           }
          ],
          "contourcarpet": [
           {
            "colorbar": {
             "outlinewidth": 0,
             "ticks": ""
            },
            "type": "contourcarpet"
           }
          ],
          "heatmap": [
           {
            "colorbar": {
             "outlinewidth": 0,
             "ticks": ""
            },
            "colorscale": [
             [
              0,
              "#0d0887"
             ],
             [
              0.1111111111111111,
              "#46039f"
             ],
             [
              0.2222222222222222,
              "#7201a8"
             ],
             [
              0.3333333333333333,
              "#9c179e"
             ],
             [
              0.4444444444444444,
              "#bd3786"
             ],
             [
              0.5555555555555556,
              "#d8576b"
             ],
             [
              0.6666666666666666,
              "#ed7953"
             ],
             [
              0.7777777777777778,
              "#fb9f3a"
             ],
             [
              0.8888888888888888,
              "#fdca26"
             ],
             [
              1,
              "#f0f921"
             ]
            ],
            "type": "heatmap"
           }
          ],
          "heatmapgl": [
           {
            "colorbar": {
             "outlinewidth": 0,
             "ticks": ""
            },
            "colorscale": [
             [
              0,
              "#0d0887"
             ],
             [
              0.1111111111111111,
              "#46039f"
             ],
             [
              0.2222222222222222,
              "#7201a8"
             ],
             [
              0.3333333333333333,
              "#9c179e"
             ],
             [
              0.4444444444444444,
              "#bd3786"
             ],
             [
              0.5555555555555556,
              "#d8576b"
             ],
             [
              0.6666666666666666,
              "#ed7953"
             ],
             [
              0.7777777777777778,
              "#fb9f3a"
             ],
             [
              0.8888888888888888,
              "#fdca26"
             ],
             [
              1,
              "#f0f921"
             ]
            ],
            "type": "heatmapgl"
           }
          ],
          "histogram": [
           {
            "marker": {
             "colorbar": {
              "outlinewidth": 0,
              "ticks": ""
             }
            },
            "type": "histogram"
           }
          ],
          "histogram2d": [
           {
            "colorbar": {
             "outlinewidth": 0,
             "ticks": ""
            },
            "colorscale": [
             [
              0,
              "#0d0887"
             ],
             [
              0.1111111111111111,
              "#46039f"
             ],
             [
              0.2222222222222222,
              "#7201a8"
             ],
             [
              0.3333333333333333,
              "#9c179e"
             ],
             [
              0.4444444444444444,
              "#bd3786"
             ],
             [
              0.5555555555555556,
              "#d8576b"
             ],
             [
              0.6666666666666666,
              "#ed7953"
             ],
             [
              0.7777777777777778,
              "#fb9f3a"
             ],
             [
              0.8888888888888888,
              "#fdca26"
             ],
             [
              1,
              "#f0f921"
             ]
            ],
            "type": "histogram2d"
           }
          ],
          "histogram2dcontour": [
           {
            "colorbar": {
             "outlinewidth": 0,
             "ticks": ""
            },
            "colorscale": [
             [
              0,
              "#0d0887"
             ],
             [
              0.1111111111111111,
              "#46039f"
             ],
             [
              0.2222222222222222,
              "#7201a8"
             ],
             [
              0.3333333333333333,
              "#9c179e"
             ],
             [
              0.4444444444444444,
              "#bd3786"
             ],
             [
              0.5555555555555556,
              "#d8576b"
             ],
             [
              0.6666666666666666,
              "#ed7953"
             ],
             [
              0.7777777777777778,
              "#fb9f3a"
             ],
             [
              0.8888888888888888,
              "#fdca26"
             ],
             [
              1,
              "#f0f921"
             ]
            ],
            "type": "histogram2dcontour"
           }
          ],
          "mesh3d": [
           {
            "colorbar": {
             "outlinewidth": 0,
             "ticks": ""
            },
            "type": "mesh3d"
           }
          ],
          "parcoords": [
           {
            "line": {
             "colorbar": {
              "outlinewidth": 0,
              "ticks": ""
             }
            },
            "type": "parcoords"
           }
          ],
          "pie": [
           {
            "automargin": true,
            "type": "pie"
           }
          ],
          "scatter": [
           {
            "marker": {
             "colorbar": {
              "outlinewidth": 0,
              "ticks": ""
             }
            },
            "type": "scatter"
           }
          ],
          "scatter3d": [
           {
            "line": {
             "colorbar": {
              "outlinewidth": 0,
              "ticks": ""
             }
            },
            "marker": {
             "colorbar": {
              "outlinewidth": 0,
              "ticks": ""
             }
            },
            "type": "scatter3d"
           }
          ],
          "scattercarpet": [
           {
            "marker": {
             "colorbar": {
              "outlinewidth": 0,
              "ticks": ""
             }
            },
            "type": "scattercarpet"
           }
          ],
          "scattergeo": [
           {
            "marker": {
             "colorbar": {
              "outlinewidth": 0,
              "ticks": ""
             }
            },
            "type": "scattergeo"
           }
          ],
          "scattergl": [
           {
            "marker": {
             "colorbar": {
              "outlinewidth": 0,
              "ticks": ""
             }
            },
            "type": "scattergl"
           }
          ],
          "scattermapbox": [
           {
            "marker": {
             "colorbar": {
              "outlinewidth": 0,
              "ticks": ""
             }
            },
            "type": "scattermapbox"
           }
          ],
          "scatterpolar": [
           {
            "marker": {
             "colorbar": {
              "outlinewidth": 0,
              "ticks": ""
             }
            },
            "type": "scatterpolar"
           }
          ],
          "scatterpolargl": [
           {
            "marker": {
             "colorbar": {
              "outlinewidth": 0,
              "ticks": ""
             }
            },
            "type": "scatterpolargl"
           }
          ],
          "scatterternary": [
           {
            "marker": {
             "colorbar": {
              "outlinewidth": 0,
              "ticks": ""
             }
            },
            "type": "scatterternary"
           }
          ],
          "surface": [
           {
            "colorbar": {
             "outlinewidth": 0,
             "ticks": ""
            },
            "colorscale": [
             [
              0,
              "#0d0887"
             ],
             [
              0.1111111111111111,
              "#46039f"
             ],
             [
              0.2222222222222222,
              "#7201a8"
             ],
             [
              0.3333333333333333,
              "#9c179e"
             ],
             [
              0.4444444444444444,
              "#bd3786"
             ],
             [
              0.5555555555555556,
              "#d8576b"
             ],
             [
              0.6666666666666666,
              "#ed7953"
             ],
             [
              0.7777777777777778,
              "#fb9f3a"
             ],
             [
              0.8888888888888888,
              "#fdca26"
             ],
             [
              1,
              "#f0f921"
             ]
            ],
            "type": "surface"
           }
          ],
          "table": [
           {
            "cells": {
             "fill": {
              "color": "#EBF0F8"
             },
             "line": {
              "color": "white"
             }
            },
            "header": {
             "fill": {
              "color": "#C8D4E3"
             },
             "line": {
              "color": "white"
             }
            },
            "type": "table"
           }
          ]
         },
         "layout": {
          "annotationdefaults": {
           "arrowcolor": "#2a3f5f",
           "arrowhead": 0,
           "arrowwidth": 1
          },
          "coloraxis": {
           "colorbar": {
            "outlinewidth": 0,
            "ticks": ""
           }
          },
          "colorscale": {
           "diverging": [
            [
             0,
             "#8e0152"
            ],
            [
             0.1,
             "#c51b7d"
            ],
            [
             0.2,
             "#de77ae"
            ],
            [
             0.3,
             "#f1b6da"
            ],
            [
             0.4,
             "#fde0ef"
            ],
            [
             0.5,
             "#f7f7f7"
            ],
            [
             0.6,
             "#e6f5d0"
            ],
            [
             0.7,
             "#b8e186"
            ],
            [
             0.8,
             "#7fbc41"
            ],
            [
             0.9,
             "#4d9221"
            ],
            [
             1,
             "#276419"
            ]
           ],
           "sequential": [
            [
             0,
             "#0d0887"
            ],
            [
             0.1111111111111111,
             "#46039f"
            ],
            [
             0.2222222222222222,
             "#7201a8"
            ],
            [
             0.3333333333333333,
             "#9c179e"
            ],
            [
             0.4444444444444444,
             "#bd3786"
            ],
            [
             0.5555555555555556,
             "#d8576b"
            ],
            [
             0.6666666666666666,
             "#ed7953"
            ],
            [
             0.7777777777777778,
             "#fb9f3a"
            ],
            [
             0.8888888888888888,
             "#fdca26"
            ],
            [
             1,
             "#f0f921"
            ]
           ],
           "sequentialminus": [
            [
             0,
             "#0d0887"
            ],
            [
             0.1111111111111111,
             "#46039f"
            ],
            [
             0.2222222222222222,
             "#7201a8"
            ],
            [
             0.3333333333333333,
             "#9c179e"
            ],
            [
             0.4444444444444444,
             "#bd3786"
            ],
            [
             0.5555555555555556,
             "#d8576b"
            ],
            [
             0.6666666666666666,
             "#ed7953"
            ],
            [
             0.7777777777777778,
             "#fb9f3a"
            ],
            [
             0.8888888888888888,
             "#fdca26"
            ],
            [
             1,
             "#f0f921"
            ]
           ]
          },
          "colorway": [
           "#636efa",
           "#EF553B",
           "#00cc96",
           "#ab63fa",
           "#FFA15A",
           "#19d3f3",
           "#FF6692",
           "#B6E880",
           "#FF97FF",
           "#FECB52"
          ],
          "font": {
           "color": "#2a3f5f"
          },
          "geo": {
           "bgcolor": "white",
           "lakecolor": "white",
           "landcolor": "#E5ECF6",
           "showlakes": true,
           "showland": true,
           "subunitcolor": "white"
          },
          "hoverlabel": {
           "align": "left"
          },
          "hovermode": "closest",
          "mapbox": {
           "style": "light"
          },
          "paper_bgcolor": "white",
          "plot_bgcolor": "#E5ECF6",
          "polar": {
           "angularaxis": {
            "gridcolor": "white",
            "linecolor": "white",
            "ticks": ""
           },
           "bgcolor": "#E5ECF6",
           "radialaxis": {
            "gridcolor": "white",
            "linecolor": "white",
            "ticks": ""
           }
          },
          "scene": {
           "xaxis": {
            "backgroundcolor": "#E5ECF6",
            "gridcolor": "white",
            "gridwidth": 2,
            "linecolor": "white",
            "showbackground": true,
            "ticks": "",
            "zerolinecolor": "white"
           },
           "yaxis": {
            "backgroundcolor": "#E5ECF6",
            "gridcolor": "white",
            "gridwidth": 2,
            "linecolor": "white",
            "showbackground": true,
            "ticks": "",
            "zerolinecolor": "white"
           },
           "zaxis": {
            "backgroundcolor": "#E5ECF6",
            "gridcolor": "white",
            "gridwidth": 2,
            "linecolor": "white",
            "showbackground": true,
            "ticks": "",
            "zerolinecolor": "white"
           }
          },
          "shapedefaults": {
           "line": {
            "color": "#2a3f5f"
           }
          },
          "ternary": {
           "aaxis": {
            "gridcolor": "white",
            "linecolor": "white",
            "ticks": ""
           },
           "baxis": {
            "gridcolor": "white",
            "linecolor": "white",
            "ticks": ""
           },
           "bgcolor": "#E5ECF6",
           "caxis": {
            "gridcolor": "white",
            "linecolor": "white",
            "ticks": ""
           }
          },
          "title": {
           "x": 0.05
          },
          "xaxis": {
           "automargin": true,
           "gridcolor": "white",
           "linecolor": "white",
           "ticks": "",
           "title": {
            "standoff": 15
           },
           "zerolinecolor": "white",
           "zerolinewidth": 2
          },
          "yaxis": {
           "automargin": true,
           "gridcolor": "white",
           "linecolor": "white",
           "ticks": "",
           "title": {
            "standoff": 15
           },
           "zerolinecolor": "white",
           "zerolinewidth": 2
          }
         }
        },
        "xaxis": {
         "anchor": "y",
         "domain": [
          0,
          1
         ],
         "title": {
          "text": "Arrival Rate"
         },
         "type": "log"
        },
        "yaxis": {
         "anchor": "x",
         "domain": [
          0,
          1
         ],
         "title": {
          "text": "Utilization (%)"
         }
        }
       }
      }
     },
     "metadata": {}
    }
   ],
   "source": [
    "# Plotting imports for a simple interactive plot using plotly express\n",
    "import plotly.express as px\n",
    "\n",
    "fig = px.line(df, x='arrival_rate', y='utilization_percent', log_x=True, color='expiration_threshold_labels')\n",
    "fig.update_layout(xaxis_title=\"Arrival Rate\", yaxis_title=\"Utilization (%)\")\n",
    "fig.show()"
   ]
  }
 ],
 "metadata": {
  "language_info": {
   "codemirror_mode": {
    "name": "ipython",
    "version": 3
   },
   "file_extension": ".py",
   "mimetype": "text/x-python",
   "name": "python",
   "nbconvert_exporter": "python",
   "pygments_lexer": "ipython3",
   "version": "3.6.10-final"
  },
  "orig_nbformat": 2,
  "kernelspec": {
   "name": "python361064bitsimenvconda6f26dd105ce74d34af4003741cf4fdff",
   "display_name": "Python 3.6.10 64-bit ('simenv': conda)"
  }
 },
 "nbformat": 4,
 "nbformat_minor": 2
}