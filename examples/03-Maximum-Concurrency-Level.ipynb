{
 "cells": [
  {
   "cell_type": "markdown",
   "metadata": {},
   "source": [
    "# Maximum Concurrency Level\n",
    "\n",
    "In this notebook, we demonestrate the simulator abilities in calculating the probability of rejection for requests."
   ]
  },
  {
   "cell_type": "code",
   "execution_count": 1,
   "metadata": {},
   "outputs": [],
   "source": [
    "# imports\n",
    "\n",
    "%load_ext autoreload\n",
    "%autoreload 2\n",
    "\n",
    "import numpy as np\n",
    "import pandas as pd\n",
    "import matplotlib.pyplot as plt"
   ]
  },
  {
   "cell_type": "code",
   "execution_count": 3,
   "metadata": {},
   "outputs": [
    {
     "output_type": "stream",
     "name": "stdout",
     "text": "Cold Starts / total requests: \t 1000 / 998537\nCold Start Probability: \t 0.0010\nRejection / total requests: \t 503207 / 998537\nRejection Probability: \t 0.5039\nAverage Instance Life Span: \t nan\nAverage Server Count:  \t\t 999.4032\nAverage Running Count:  \t 998.4269\nAverage Idle Count:  \t\t 0.9763\n"
    }
   ],
   "source": [
    "from simfaas.ServerlessSimulator import ServerlessSimulator as Sim\n",
    "\n",
    "sim = Sim(arrival_rate=1000, warm_service_rate=1/2.016, cold_service_rate=1/2.163,\n",
    "            expiration_threshold=600, max_time=1000)\n",
    "sim.generate_trace(debug_print=False)\n",
    "sim.print_trace_results()"
   ]
  }
 ],
 "metadata": {
  "language_info": {
   "codemirror_mode": {
    "name": "ipython",
    "version": 3
   },
   "file_extension": ".py",
   "mimetype": "text/x-python",
   "name": "python",
   "nbconvert_exporter": "python",
   "pygments_lexer": "ipython3",
   "version": "3.6.10-final"
  },
  "orig_nbformat": 2,
  "kernelspec": {
   "name": "python361064bitsimenvconda6f26dd105ce74d34af4003741cf4fdff",
   "display_name": "Python 3.6.10 64-bit ('simenv': conda)"
  }
 },
 "nbformat": 4,
 "nbformat_minor": 2
}