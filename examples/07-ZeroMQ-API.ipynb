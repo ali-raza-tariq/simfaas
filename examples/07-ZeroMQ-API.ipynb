{
 "cells": [
  {
   "cell_type": "markdown",
   "metadata": {},
   "source": [
    "## Distribute Workload using ZeroMQ\n",
    "\n",
    "In this section, we will be using ZeroMQ to distribute workload of generating temporal traces\n",
    "among distributed workers. Doing so, gives us the ability to get a much higher throughput of\n",
    "simulations."
   ]
  },
  {
   "cell_type": "code",
   "execution_count": 1,
   "metadata": {},
   "outputs": [],
   "source": [
    "import sys\n",
    "import time\n",
    "import random\n",
    "from threading import Thread\n",
    "import struct\n",
    "import pickle\n",
    "\n",
    "import zmq\n",
    "from tqdm import tqdm\n",
    "import pandas as pd\n",
    "\n",
    "port = \"5556\"\n",
    "\n",
    "\n",
    "context = zmq.Context()\n",
    "socket = context.socket(zmq.DEALER)\n",
    "socket.setsockopt(zmq.IDENTITY, b'master')\n",
    "socket_addr = \"tcp://127.0.0.1:%s\" % port\n",
    "socket.bind(socket_addr)\n",
    "\n",
    "poller = zmq.Poller()\n",
    "poller.register(socket, zmq.POLLIN)"
   ]
  },
  {
   "cell_type": "code",
   "execution_count": 2,
   "metadata": {},
   "outputs": [
    {
     "output_type": "execute_result",
     "data": {
      "text/plain": "{'reqs_cold': 22,\n 'reqs_total': 9120,\n 'reqs_warm': 9098,\n 'prob_cold': 0.002412280701754386,\n 'reqs_reject': 0,\n 'prob_reject': 0.0,\n 'lifespan_avg': 4439.236638325309,\n 'inst_count_avg': 7.950966171119343,\n 'inst_running_count_avg': 1.8464545888184838,\n 'inst_idle_count_avg': 6.104511582300859,\n 'arrival_rate': 0.9,\n 'warm_service_rate': 0.49603174603174605,\n 'cold_service_rate': 0.46232085067036527,\n 'expiration_threshold': 600,\n 'max_time': 10000}"
     },
     "metadata": {},
     "execution_count": 2
    }
   ],
   "source": [
    "# Test API function before running worker\n",
    "from examples.sim_trace import generate_trace_api\n",
    "\n",
    "data = {\n",
    "    \"arrival_rate\": 0.9, \n",
    "    \"warm_service_rate\": 1/2.016, \n",
    "    \"cold_service_rate\": 1/2.163,\n",
    "    \"expiration_threshold\": 600, \n",
    "    \"max_time\": 10000,\n",
    "}\n",
    "\n",
    "generate_trace_api(data)"
   ]
  },
  {
   "cell_type": "code",
   "execution_count": 3,
   "metadata": {},
   "outputs": [],
   "source": [
    "total_sims = 100\n",
    "\n",
    "# generate request that will be sent out to the worker\n",
    "request = pickle.dumps(data)\n",
    "def sender(num):\n",
    "    # send the tasks\n",
    "    for _ in range(num):\n",
    "        socket.send(request)\n",
    "\n",
    "st = Thread(target=sender, args=(total_sims,))\n",
    "st.start()"
   ]
  },
  {
   "cell_type": "code",
   "execution_count": 4,
   "metadata": {
    "tags": []
   },
   "outputs": [
    {
     "output_type": "stream",
     "name": "stderr",
     "text": "100%|██████████| 100/100 [00:09<00:00, 11.07it/s]\n"
    }
   ],
   "source": [
    "pbar = tqdm(total=int(total_sims))\n",
    "\n",
    "received_sims = 0\n",
    "results = []\n",
    "# receive the results\n",
    "while received_sims < total_sims:\n",
    "    socks = dict(poller.poll(timeout=5000))\n",
    "    if socks == {}:\n",
    "        print(\"Timeout!\")\n",
    "        break\n",
    "\n",
    "    if socket in socks and socks[socket] == zmq.POLLIN:\n",
    "        # print(\"Message from socket: %s\" % struct.unpack(\"d\", socket.recv()))\n",
    "        results.append(pickle.loads(socket.recv()))\n",
    "        received_sims += 1\n",
    "        pbar.update(1)\n",
    "\n",
    "pbar.close()"
   ]
  },
  {
   "cell_type": "code",
   "execution_count": 5,
   "metadata": {
    "tags": []
   },
   "outputs": [
    {
     "output_type": "stream",
     "name": "stdout",
     "text": "The probability of cold start is: 0.00208998\n"
    },
    {
     "output_type": "execute_result",
     "data": {
      "text/plain": "   reqs_cold  reqs_total  reqs_warm  prob_cold  reqs_reject  prob_reject  \\\n0         16        8981       8965   0.001782            0          0.0   \n1         18        8902       8884   0.002022            0          0.0   \n2         26        8972       8946   0.002898            0          0.0   \n3         18        9054       9036   0.001988            0          0.0   \n4         25        8957       8932   0.002791            0          0.0   \n\n   lifespan_avg  inst_count_avg  inst_running_count_avg  inst_idle_count_avg  \\\n0   3971.685914        7.573530                1.802218             5.771312   \n1   4720.146055        7.634842                1.787555             5.847287   \n2   3575.223710        8.130272                1.788940             6.341331   \n3   4811.299354        7.534811                1.859861             5.674950   \n4   3574.218239        7.887112                1.824521             6.062591   \n\n   arrival_rate  warm_service_rate  cold_service_rate  expiration_threshold  \\\n0           0.9           0.496032           0.462321                   600   \n1           0.9           0.496032           0.462321                   600   \n2           0.9           0.496032           0.462321                   600   \n3           0.9           0.496032           0.462321                   600   \n4           0.9           0.496032           0.462321                   600   \n\n   max_time  \n0     10000  \n1     10000  \n2     10000  \n3     10000  \n4     10000  ",
      "text/html": "<div>\n<style scoped>\n    .dataframe tbody tr th:only-of-type {\n        vertical-align: middle;\n    }\n\n    .dataframe tbody tr th {\n        vertical-align: top;\n    }\n\n    .dataframe thead th {\n        text-align: right;\n    }\n</style>\n<table border=\"1\" class=\"dataframe\">\n  <thead>\n    <tr style=\"text-align: right;\">\n      <th></th>\n      <th>reqs_cold</th>\n      <th>reqs_total</th>\n      <th>reqs_warm</th>\n      <th>prob_cold</th>\n      <th>reqs_reject</th>\n      <th>prob_reject</th>\n      <th>lifespan_avg</th>\n      <th>inst_count_avg</th>\n      <th>inst_running_count_avg</th>\n      <th>inst_idle_count_avg</th>\n      <th>arrival_rate</th>\n      <th>warm_service_rate</th>\n      <th>cold_service_rate</th>\n      <th>expiration_threshold</th>\n      <th>max_time</th>\n    </tr>\n  </thead>\n  <tbody>\n    <tr>\n      <th>0</th>\n      <td>16</td>\n      <td>8981</td>\n      <td>8965</td>\n      <td>0.001782</td>\n      <td>0</td>\n      <td>0.0</td>\n      <td>3971.685914</td>\n      <td>7.573530</td>\n      <td>1.802218</td>\n      <td>5.771312</td>\n      <td>0.9</td>\n      <td>0.496032</td>\n      <td>0.462321</td>\n      <td>600</td>\n      <td>10000</td>\n    </tr>\n    <tr>\n      <th>1</th>\n      <td>18</td>\n      <td>8902</td>\n      <td>8884</td>\n      <td>0.002022</td>\n      <td>0</td>\n      <td>0.0</td>\n      <td>4720.146055</td>\n      <td>7.634842</td>\n      <td>1.787555</td>\n      <td>5.847287</td>\n      <td>0.9</td>\n      <td>0.496032</td>\n      <td>0.462321</td>\n      <td>600</td>\n      <td>10000</td>\n    </tr>\n    <tr>\n      <th>2</th>\n      <td>26</td>\n      <td>8972</td>\n      <td>8946</td>\n      <td>0.002898</td>\n      <td>0</td>\n      <td>0.0</td>\n      <td>3575.223710</td>\n      <td>8.130272</td>\n      <td>1.788940</td>\n      <td>6.341331</td>\n      <td>0.9</td>\n      <td>0.496032</td>\n      <td>0.462321</td>\n      <td>600</td>\n      <td>10000</td>\n    </tr>\n    <tr>\n      <th>3</th>\n      <td>18</td>\n      <td>9054</td>\n      <td>9036</td>\n      <td>0.001988</td>\n      <td>0</td>\n      <td>0.0</td>\n      <td>4811.299354</td>\n      <td>7.534811</td>\n      <td>1.859861</td>\n      <td>5.674950</td>\n      <td>0.9</td>\n      <td>0.496032</td>\n      <td>0.462321</td>\n      <td>600</td>\n      <td>10000</td>\n    </tr>\n    <tr>\n      <th>4</th>\n      <td>25</td>\n      <td>8957</td>\n      <td>8932</td>\n      <td>0.002791</td>\n      <td>0</td>\n      <td>0.0</td>\n      <td>3574.218239</td>\n      <td>7.887112</td>\n      <td>1.824521</td>\n      <td>6.062591</td>\n      <td>0.9</td>\n      <td>0.496032</td>\n      <td>0.462321</td>\n      <td>600</td>\n      <td>10000</td>\n    </tr>\n  </tbody>\n</table>\n</div>"
     },
     "metadata": {},
     "execution_count": 5
    }
   ],
   "source": [
    "res_df = pd.DataFrame(data=results)\n",
    "print(f\"The probability of cold start is: {res_df['prob_cold'].mean():.8f}\")\n",
    "\n",
    "res_df.head()"
   ]
  },
  {
   "cell_type": "code",
   "execution_count": 7,
   "metadata": {},
   "outputs": [
    {
     "output_type": "execute_result",
     "data": {
      "text/plain": "{'reqs_cold': 18.82,\n 'reqs_total': 9005.23,\n 'reqs_warm': 8986.41,\n 'prob_cold': 0.0020899819234118677,\n 'reqs_reject': 0.0,\n 'prob_reject': 0.0,\n 'lifespan_avg': 4574.026199719348,\n 'inst_count_avg': 7.683450441510985,\n 'inst_running_count_avg': 1.8181519008460987,\n 'inst_idle_count_avg': 5.86529854066488,\n 'arrival_rate': 0.9000000000000008,\n 'warm_service_rate': 0.49603174603174677,\n 'cold_service_rate': 0.4623208506703657,\n 'expiration_threshold': 600.0,\n 'max_time': 10000.0}"
     },
     "metadata": {},
     "execution_count": 7
    }
   ],
   "source": [
    "res_df.mean().to_dict()"
   ]
  }
 ],
 "metadata": {
  "language_info": {
   "codemirror_mode": {
    "name": "ipython",
    "version": 3
   },
   "file_extension": ".py",
   "mimetype": "text/x-python",
   "name": "python",
   "nbconvert_exporter": "python",
   "pygments_lexer": "ipython3",
   "version": "3.6.10-final"
  },
  "orig_nbformat": 2,
  "kernelspec": {
   "name": "python361064bitsimenvconda6f26dd105ce74d34af4003741cf4fdff",
   "display_name": "Python 3.6.10 64-bit ('simenv': conda)"
  }
 },
 "nbformat": 4,
 "nbformat_minor": 2
}