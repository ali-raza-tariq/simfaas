{
 "cells": [
  {
   "cell_type": "markdown",
   "metadata": {},
   "source": [
    "## Distribute Workload using ZeroMQ\n",
    "\n",
    "In this section, we will be using ZeroMQ to distribute workload of generating temporal traces\n",
    "among distributed workers. Doing so, gives us the ability to get a much higher throughput of\n",
    "simulations."
   ]
  },
  {
   "cell_type": "code",
   "execution_count": 1,
   "metadata": {},
   "outputs": [],
   "source": [
    "import sys\n",
    "import time\n",
    "import random\n",
    "from threading import Thread\n",
    "import struct\n",
    "import pickle\n",
    "\n",
    "import zmq\n",
    "from tqdm import tqdm\n",
    "import pandas as pd\n",
    "\n",
    "port = \"5556\"\n",
    "\n",
    "\n",
    "context = zmq.Context()\n",
    "socket = context.socket(zmq.DEALER)\n",
    "socket.setsockopt(zmq.IDENTITY, b'master')\n",
    "socket_addr = \"tcp://127.0.0.1:%s\" % port\n",
    "socket.bind(socket_addr)\n",
    "\n",
    "poller = zmq.Poller()\n",
    "poller.register(socket, zmq.POLLIN)"
   ]
  },
  {
   "cell_type": "code",
   "execution_count": 2,
   "metadata": {},
   "outputs": [
    {
     "data": {
      "text/plain": [
       "{'reqs_cold': 7,\n",
       " 'reqs_total': 259,\n",
       " 'reqs_warm': 252,\n",
       " 'prob_cold': 0.02702702702702703,\n",
       " 'reqs_reject': 0,\n",
       " 'prob_reject': 0.0,\n",
       " 'lifespan_avg': nan,\n",
       " 'inst_count_avg': 6.373843743298862,\n",
       " 'inst_running_count_avg': 1.8784727180748448,\n",
       " 'inst_idle_count_avg': 4.495371025224019,\n",
       " 'arrival_rate': 0.9,\n",
       " 'warm_service_rate': 0.49603174603174605,\n",
       " 'cold_service_rate': 0.46232085067036527,\n",
       " 'expiration_threshold': 600,\n",
       " 'max_time': 300}"
      ]
     },
     "execution_count": 2,
     "metadata": {},
     "output_type": "execute_result"
    }
   ],
   "source": [
    "# Test API function before running worker\n",
    "from sim_trace import generate_trace_api\n",
    "\n",
    "data = {\n",
    "    \"arrival_rate\": 0.9, \n",
    "    \"warm_service_rate\": 1/2.016, \n",
    "    \"cold_service_rate\": 1/2.163,\n",
    "    \"expiration_threshold\": 600, \n",
    "    \"max_time\": 300,\n",
    "}\n",
    "\n",
    "generate_trace_api(data)"
   ]
  },
  {
   "cell_type": "code",
   "execution_count": 3,
   "metadata": {},
   "outputs": [],
   "source": [
    "total_sims = 10000\n",
    "\n",
    "# generate request that will be sent out to the worker\n",
    "request = pickle.dumps(data)\n",
    "def sender(num):\n",
    "    # send the tasks\n",
    "    for _ in range(num):\n",
    "        socket.send(request)\n",
    "\n",
    "st = Thread(target=sender, args=(total_sims,))\n",
    "st.start()"
   ]
  },
  {
   "cell_type": "code",
   "execution_count": 4,
   "metadata": {
    "tags": []
   },
   "outputs": [
    {
     "name": "stderr",
     "output_type": "stream",
     "text": [
      "100%|██████████| 10000/10000 [00:28<00:00, 346.43it/s]\n"
     ]
    }
   ],
   "source": [
    "pbar = tqdm(total=int(total_sims))\n",
    "\n",
    "received_sims = 0\n",
    "results = []\n",
    "# receive the results\n",
    "while received_sims < total_sims:\n",
    "    socks = dict(poller.poll(timeout=5000))\n",
    "    if socks == {}:\n",
    "        print(\"Timeout!\")\n",
    "        break\n",
    "\n",
    "    if socket in socks and socks[socket] == zmq.POLLIN:\n",
    "        # print(\"Message from socket: %s\" % struct.unpack(\"d\", socket.recv()))\n",
    "        results.append(pickle.loads(socket.recv()))\n",
    "        received_sims += 1\n",
    "        pbar.update(1)\n",
    "\n",
    "pbar.close()"
   ]
  },
  {
   "cell_type": "code",
   "execution_count": 5,
   "metadata": {
    "tags": []
   },
   "outputs": [
    {
     "name": "stdout",
     "output_type": "stream",
     "text": [
      "The probability of cold start is: 0.02675923\n"
     ]
    },
    {
     "data": {
      "text/html": [
       "<div>\n",
       "<style scoped>\n",
       "    .dataframe tbody tr th:only-of-type {\n",
       "        vertical-align: middle;\n",
       "    }\n",
       "\n",
       "    .dataframe tbody tr th {\n",
       "        vertical-align: top;\n",
       "    }\n",
       "\n",
       "    .dataframe thead th {\n",
       "        text-align: right;\n",
       "    }\n",
       "</style>\n",
       "<table border=\"1\" class=\"dataframe\">\n",
       "  <thead>\n",
       "    <tr style=\"text-align: right;\">\n",
       "      <th></th>\n",
       "      <th>reqs_cold</th>\n",
       "      <th>reqs_total</th>\n",
       "      <th>reqs_warm</th>\n",
       "      <th>prob_cold</th>\n",
       "      <th>reqs_reject</th>\n",
       "      <th>prob_reject</th>\n",
       "      <th>lifespan_avg</th>\n",
       "      <th>inst_count_avg</th>\n",
       "      <th>inst_running_count_avg</th>\n",
       "      <th>inst_idle_count_avg</th>\n",
       "      <th>arrival_rate</th>\n",
       "      <th>warm_service_rate</th>\n",
       "      <th>cold_service_rate</th>\n",
       "      <th>expiration_threshold</th>\n",
       "      <th>max_time</th>\n",
       "    </tr>\n",
       "  </thead>\n",
       "  <tbody>\n",
       "    <tr>\n",
       "      <th>0</th>\n",
       "      <td>6</td>\n",
       "      <td>290</td>\n",
       "      <td>284</td>\n",
       "      <td>0.020690</td>\n",
       "      <td>0</td>\n",
       "      <td>0.0</td>\n",
       "      <td>NaN</td>\n",
       "      <td>5.288575</td>\n",
       "      <td>1.849553</td>\n",
       "      <td>3.439021</td>\n",
       "      <td>0.9</td>\n",
       "      <td>0.496032</td>\n",
       "      <td>0.462321</td>\n",
       "      <td>600</td>\n",
       "      <td>300</td>\n",
       "    </tr>\n",
       "    <tr>\n",
       "      <th>1</th>\n",
       "      <td>7</td>\n",
       "      <td>251</td>\n",
       "      <td>244</td>\n",
       "      <td>0.027888</td>\n",
       "      <td>0</td>\n",
       "      <td>0.0</td>\n",
       "      <td>NaN</td>\n",
       "      <td>6.267992</td>\n",
       "      <td>1.763723</td>\n",
       "      <td>4.504269</td>\n",
       "      <td>0.9</td>\n",
       "      <td>0.496032</td>\n",
       "      <td>0.462321</td>\n",
       "      <td>600</td>\n",
       "      <td>300</td>\n",
       "    </tr>\n",
       "    <tr>\n",
       "      <th>2</th>\n",
       "      <td>6</td>\n",
       "      <td>266</td>\n",
       "      <td>260</td>\n",
       "      <td>0.022556</td>\n",
       "      <td>0</td>\n",
       "      <td>0.0</td>\n",
       "      <td>NaN</td>\n",
       "      <td>5.768675</td>\n",
       "      <td>1.651955</td>\n",
       "      <td>4.116720</td>\n",
       "      <td>0.9</td>\n",
       "      <td>0.496032</td>\n",
       "      <td>0.462321</td>\n",
       "      <td>600</td>\n",
       "      <td>300</td>\n",
       "    </tr>\n",
       "    <tr>\n",
       "      <th>3</th>\n",
       "      <td>7</td>\n",
       "      <td>254</td>\n",
       "      <td>247</td>\n",
       "      <td>0.027559</td>\n",
       "      <td>0</td>\n",
       "      <td>0.0</td>\n",
       "      <td>NaN</td>\n",
       "      <td>5.454274</td>\n",
       "      <td>1.639920</td>\n",
       "      <td>3.814354</td>\n",
       "      <td>0.9</td>\n",
       "      <td>0.496032</td>\n",
       "      <td>0.462321</td>\n",
       "      <td>600</td>\n",
       "      <td>300</td>\n",
       "    </tr>\n",
       "    <tr>\n",
       "      <th>4</th>\n",
       "      <td>6</td>\n",
       "      <td>251</td>\n",
       "      <td>245</td>\n",
       "      <td>0.023904</td>\n",
       "      <td>0</td>\n",
       "      <td>0.0</td>\n",
       "      <td>NaN</td>\n",
       "      <td>5.270242</td>\n",
       "      <td>1.552482</td>\n",
       "      <td>3.717760</td>\n",
       "      <td>0.9</td>\n",
       "      <td>0.496032</td>\n",
       "      <td>0.462321</td>\n",
       "      <td>600</td>\n",
       "      <td>300</td>\n",
       "    </tr>\n",
       "  </tbody>\n",
       "</table>\n",
       "</div>"
      ],
      "text/plain": [
       "   reqs_cold  reqs_total  reqs_warm  prob_cold  reqs_reject  prob_reject  \\\n",
       "0          6         290        284   0.020690            0          0.0   \n",
       "1          7         251        244   0.027888            0          0.0   \n",
       "2          6         266        260   0.022556            0          0.0   \n",
       "3          7         254        247   0.027559            0          0.0   \n",
       "4          6         251        245   0.023904            0          0.0   \n",
       "\n",
       "   lifespan_avg  inst_count_avg  inst_running_count_avg  inst_idle_count_avg  \\\n",
       "0           NaN        5.288575                1.849553             3.439021   \n",
       "1           NaN        6.267992                1.763723             4.504269   \n",
       "2           NaN        5.768675                1.651955             4.116720   \n",
       "3           NaN        5.454274                1.639920             3.814354   \n",
       "4           NaN        5.270242                1.552482             3.717760   \n",
       "\n",
       "   arrival_rate  warm_service_rate  cold_service_rate  expiration_threshold  \\\n",
       "0           0.9           0.496032           0.462321                   600   \n",
       "1           0.9           0.496032           0.462321                   600   \n",
       "2           0.9           0.496032           0.462321                   600   \n",
       "3           0.9           0.496032           0.462321                   600   \n",
       "4           0.9           0.496032           0.462321                   600   \n",
       "\n",
       "   max_time  \n",
       "0       300  \n",
       "1       300  \n",
       "2       300  \n",
       "3       300  \n",
       "4       300  "
      ]
     },
     "execution_count": 5,
     "metadata": {},
     "output_type": "execute_result"
    }
   ],
   "source": [
    "res_df = pd.DataFrame(data=results)\n",
    "print(f\"The probability of cold start is: {res_df['prob_cold'].mean():.8f}\")\n",
    "\n",
    "res_df.head()"
   ]
  },
  {
   "cell_type": "code",
   "execution_count": 6,
   "metadata": {},
   "outputs": [
    {
     "data": {
      "text/plain": [
       "{'reqs_cold': 7.2316,\n",
       " 'reqs_total': 270.6715,\n",
       " 'reqs_warm': 263.4399,\n",
       " 'prob_cold': 0.026759232023040664,\n",
       " 'reqs_reject': 0.0,\n",
       " 'prob_reject': 0.0,\n",
       " 'lifespan_avg': nan,\n",
       " 'inst_count_avg': 6.35760382595932,\n",
       " 'inst_running_count_avg': 1.805940194580486,\n",
       " 'inst_idle_count_avg': 4.551663631378818,\n",
       " 'arrival_rate': 0.899999999999831,\n",
       " 'warm_service_rate': 0.4960317460317861,\n",
       " 'cold_service_rate': 0.4623208506703655,\n",
       " 'expiration_threshold': 600.0,\n",
       " 'max_time': 300.0}"
      ]
     },
     "execution_count": 6,
     "metadata": {},
     "output_type": "execute_result"
    }
   ],
   "source": [
    "res_df.mean().to_dict()"
   ]
  }
 ],
 "metadata": {
  "kernelspec": {
   "display_name": "Python 3",
   "language": "python",
   "name": "python3"
  },
  "language_info": {
   "codemirror_mode": {
    "name": "ipython",
    "version": 3
   },
   "file_extension": ".py",
   "mimetype": "text/x-python",
   "name": "python",
   "nbconvert_exporter": "python",
   "pygments_lexer": "ipython3",
   "version": "3.8.3"
  }
 },
 "nbformat": 4,
 "nbformat_minor": 4
}
