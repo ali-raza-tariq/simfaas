{
 "cells": [
  {
   "cell_type": "markdown",
   "metadata": {},
   "source": [
    "## Distribute Workload using ZeroMQ\n",
    "\n",
    "In this section, we will be using ZeroMQ to distribute workload of generating temporal traces\n",
    "among distributed workers. Doing so, gives us the ability to get a much higher throughput of\n",
    "simulations."
   ]
  },
  {
   "cell_type": "code",
   "execution_count": 1,
   "metadata": {},
   "outputs": [],
   "source": [
    "import sys\n",
    "import time\n",
    "import random\n",
    "from threading import Thread\n",
    "import struct\n",
    "\n",
    "import zmq\n",
    "from tqdm import tqdm\n",
    "import numpy as np\n",
    "\n",
    "port = \"5556\"\n",
    "\n",
    "\n",
    "context = zmq.Context()\n",
    "socket = context.socket(zmq.DEALER)\n",
    "socket.setsockopt(zmq.IDENTITY, b'master')\n",
    "socket_addr = \"tcp://127.0.0.1:%s\" % port\n",
    "socket.bind(socket_addr)\n",
    "\n",
    "poller = zmq.Poller()\n",
    "poller.register(socket, zmq.POLLIN)"
   ]
  },
  {
   "cell_type": "code",
   "execution_count": 8,
   "metadata": {},
   "outputs": [],
   "source": [
    "total_sims = 1000\n",
    "\n",
    "def sender(num):\n",
    "    # send the tasks\n",
    "    for _ in range(num):\n",
    "        request = b\"HI\"\n",
    "        socket.send(request)\n",
    "\n",
    "st = Thread(target=sender, args=(total_sims,))\n",
    "st.start()"
   ]
  },
  {
   "cell_type": "code",
   "execution_count": 9,
   "metadata": {},
   "outputs": [
    {
     "output_type": "stream",
     "name": "stderr",
     "text": "100%|██████████| 1000/1000 [00:09<00:00, 109.16it/s]\n"
    }
   ],
   "source": [
    "pbar = tqdm(total=int(total_sims))\n",
    "\n",
    "received_sims = 0\n",
    "results = []\n",
    "# receive the results\n",
    "while received_sims < total_sims:\n",
    "    socks = dict(poller.poll(timeout=30000))\n",
    "    if socks == {}:\n",
    "        print(\"Timeout!\")\n",
    "        break\n",
    "\n",
    "    if socket in socks and socks[socket] == zmq.POLLIN:\n",
    "        # print(\"Message from socket: %s\" % struct.unpack(\"d\", socket.recv()))\n",
    "        results.append(struct.unpack(\"d\", socket.recv()))\n",
    "        received_sims += 1\n",
    "        pbar.update(1)\n",
    "\n",
    "pbar.close()"
   ]
  },
  {
   "cell_type": "code",
   "execution_count": 10,
   "metadata": {},
   "outputs": [
    {
     "output_type": "stream",
     "name": "stdout",
     "text": "The probability of cold startis: 0.00035226\n"
    }
   ],
   "source": [
    "p_cold = np.mean(results)\n",
    "print(f\"The probability of cold startis: {p_cold:.8f}\")"
   ]
  },
  {
   "cell_type": "code",
   "execution_count": null,
   "metadata": {},
   "outputs": [],
   "source": []
  }
 ],
 "metadata": {
  "language_info": {
   "codemirror_mode": {
    "name": "ipython",
    "version": 3
   },
   "file_extension": ".py",
   "mimetype": "text/x-python",
   "name": "python",
   "nbconvert_exporter": "python",
   "pygments_lexer": "ipython3",
   "version": "3.6.10-final"
  },
  "orig_nbformat": 2,
  "kernelspec": {
   "name": "python361064bitsimenvconda6f26dd105ce74d34af4003741cf4fdff",
   "display_name": "Python 3.6.10 64-bit ('simenv': conda)"
  }
 },
 "nbformat": 4,
 "nbformat_minor": 2
}